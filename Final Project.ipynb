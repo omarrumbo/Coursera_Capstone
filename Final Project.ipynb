{
    "cells": [
        {
            "cell_type": "markdown",
            "metadata": {
                "collapsed": true
            },
            "source": "# Introduction / Business problem"
        },
        {
            "cell_type": "markdown",
            "metadata": {},
            "source": "Korean cuisin is one of the trends right now. People from al around the world want to have good Korean restaurants in their city, but in Spain  \nThe business problem will be to decide in which of the biggest cities in Spain would be optimal to start a Korean restaurant.  \nFor this analysis we will take in consideration the number of restaurants of the same kind and number of restaurants in general."
        },
        {
            "cell_type": "markdown",
            "metadata": {},
            "source": "# Data"
        },
        {
            "cell_type": "markdown",
            "metadata": {},
            "source": "I will use data from Foursquare to get restaurants of each city and their category.  \nAlso I will need a database with the cities' coordinates."
        },
        {
            "cell_type": "code",
            "execution_count": null,
            "metadata": {},
            "outputs": [],
            "source": ""
        }
    ],
    "metadata": {
        "kernelspec": {
            "display_name": "Python 3.7",
            "language": "python",
            "name": "python3"
        },
        "language_info": {
            "codemirror_mode": {
                "name": "ipython",
                "version": 3
            },
            "file_extension": ".py",
            "mimetype": "text/x-python",
            "name": "python",
            "nbconvert_exporter": "python",
            "pygments_lexer": "ipython3",
            "version": "3.7.9"
        }
    },
    "nbformat": 4,
    "nbformat_minor": 1
}